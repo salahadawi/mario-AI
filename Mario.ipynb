{
 "cells": [
  {
   "cell_type": "markdown",
   "metadata": {},
   "source": [
    "Import mario modules"
   ]
  },
  {
   "cell_type": "code",
   "execution_count": 1,
   "metadata": {},
   "outputs": [],
   "source": [
    "#! /usr/bin/python3\n",
    "from nes_py.wrappers import JoypadSpace\n",
    "import gym_super_mario_bros\n",
    "from gym_super_mario_bros.actions import *"
   ]
  },
  {
   "cell_type": "markdown",
   "metadata": {},
   "source": [
    "Import plotting modules"
   ]
  },
  {
   "cell_type": "code",
   "execution_count": 2,
   "metadata": {},
   "outputs": [],
   "source": [
    "import matplotlib.pyplot as plt\n",
    "from matplotlib import animation, rc\n",
    "from IPython.core.interactiveshell import InteractiveShell\n",
    "InteractiveShell.ast_node_interactivity = \"all\""
   ]
  },
  {
   "cell_type": "code",
   "execution_count": 3,
   "metadata": {},
   "outputs": [],
   "source": [
    "import random, sys"
   ]
  },
  {
   "cell_type": "markdown",
   "metadata": {},
   "source": [
    "Setup plotting"
   ]
  },
  {
   "cell_type": "code",
   "execution_count": 4,
   "metadata": {
    "scrolled": true
   },
   "outputs": [],
   "source": [
    "%matplotlib inline\n",
    "%matplotlib notebook\n",
    "plt.ioff()"
   ]
  },
  {
   "cell_type": "markdown",
   "metadata": {},
   "source": [
    "Setup enviroment"
   ]
  },
  {
   "cell_type": "code",
   "execution_count": null,
   "metadata": {},
   "outputs": [],
   "source": [
    "env = gym_super_mario_bros.make('SuperMarioBros-1-1-v0')\n",
    "env = JoypadSpace(env, RIGHT_ONLY)"
   ]
  },
  {
   "cell_type": "markdown",
   "metadata": {},
   "source": [
    "Setup parameters"
   ]
  },
  {
   "cell_type": "code",
   "execution_count": null,
   "metadata": {},
   "outputs": [],
   "source": [
    "#Animation\n",
    "save_animation = 1 # Saves animation to plot\n",
    "frames_skipped = 3 # How many frames to skip when creating animation\n",
    "\n",
    "#Generation\n",
    "generation_amount = 1000\n",
    "\n",
    "#Population\n",
    "population_amount = 30 # Amount of agents per generation\n",
    "\n",
    "#Agent\n",
    "moves_amount = 5000 # Max amount of moves agent can perform\n",
    "moves_to_check = 100 # How many moves without increase in fitness until termination\n",
    "mutation_rate = 1.001 # Chance of any move changing to a random move\n",
    "moves_mutable = 0.2 # How many percent of moves are mutable (starting from end)\n",
    "                    # Regardless of percent, a minimum of (moves_to_check*2) moves\n",
    "                    # are mutable.\n"
   ]
  },
  {
   "cell_type": "code",
   "execution_count": null,
   "metadata": {},
   "outputs": [],
   "source": [
    "t = 0\n",
    "def print_info(info, reward):\n",
    "    global t \n",
    "    t += 1\n",
    "    if not t % 100:\n",
    "        print(info, reward)"
   ]
  },
  {
   "cell_type": "code",
   "execution_count": null,
   "metadata": {},
   "outputs": [],
   "source": [
    "def handle_frame(step, images):\n",
    "    if not step % frames_skipped:\n",
    "        image = plt.imshow(env.render(mode='rgb_array'))\n",
    "        images.append([image])"
   ]
  },
  {
   "cell_type": "code",
   "execution_count": null,
   "metadata": {},
   "outputs": [],
   "source": [
    "fig = plt.figure()\n",
    "def display_animation(images):\n",
    "    anim = animation.ArtistAnimation(fig, images,\n",
    "                                     interval=15*frames_skipped, blit=True)\n",
    "    rc('animation', html='jshtml')\n",
    "    return(anim)"
   ]
  },
  {
   "cell_type": "code",
   "execution_count": null,
   "metadata": {},
   "outputs": [],
   "source": [
    "class Agent:\n",
    "    def __init__(self, fittest):\n",
    "        self.fitness = 0\n",
    "        self.images = []\n",
    "        if fittest:\n",
    "            self.moves = fittest.moves.copy()\n",
    "            self.moves_used = fittest.moves_used\n",
    "        else:\n",
    "            self.moves = []\n",
    "            self.moves_used = 0"
   ]
  },
  {
   "cell_type": "code",
   "execution_count": null,
   "metadata": {},
   "outputs": [],
   "source": [
    "def check_fitness(player, fitness, past_fitness):\n",
    "    if player.fitness < fitness:\n",
    "        player.fitness = fitness\n",
    "    if len(past_fitness) < moves_to_check:\n",
    "        past_fitness.append(fitness)\n",
    "    else:\n",
    "        past_fitness.pop(0)\n",
    "        past_fitness.append(fitness)\n",
    "        for i in range(moves_to_check):\n",
    "            if past_fitness[i] > past_fitness[0]:\n",
    "                break\n",
    "            #Kills player if no progress in fitness for moves_to_check moves\n",
    "            if i == moves_to_check - 1:\n",
    "                return True"
   ]
  },
  {
   "cell_type": "code",
   "execution_count": null,
   "metadata": {},
   "outputs": [],
   "source": [
    "def mutate_moves(player):\n",
    "    start_index = int(player.moves_used * (1-moves_mutable))\n",
    "    if player.moves_used - start_index < moves_to_check * 2:\n",
    "        start_index = player.moves_used - moves_to_check * 2\n",
    "    for i in range(start_index, moves_amount):\n",
    "        num = random.random()\n",
    "        if num < mutation_rate:\n",
    "            player.moves[i] = env.action_space.sample()\n",
    "\n",
    "def agent_get_moves(player, population):\n",
    "    if not player.moves:\n",
    "        for i in range(moves_amount):\n",
    "            player.moves.append(env.action_space.sample())\n",
    "    else:\n",
    "        if population:\n",
    "            mutate_moves(player)"
   ]
  },
  {
   "cell_type": "code",
   "execution_count": null,
   "metadata": {},
   "outputs": [],
   "source": [
    "def print_mutation_info(fittest, population):\n",
    "    global mutation_rate\n",
    "    current_fittest = get_fittest(population)\n",
    "    if fittest and fittest.fitness == current_fittest.fitness:\n",
    "        print(\"Increasing mutation chance by 0.005\")\n",
    "        mutation_rate += 0.005\n",
    "        print(\"Mutation chance is now {}%\".format(mutation_rate*100))\n",
    "    else:\n",
    "        print(\"Fitness increased succesfully, restore mutation chance to 0.01\")\n",
    "        mutation_rate = 0.01\n",
    "    mutable_amount = current_fittest.moves_used * moves_mutable\n",
    "    if mutable_amount < moves_to_check * 2:\n",
    "        mutable_amount = moves_to_check * 2\n",
    "    print(\"Mutating last {}% of moves, equal to {} moves\".format(moves_mutable*100,\n",
    "                                                                 mutable_amount))"
   ]
  },
  {
   "cell_type": "code",
   "execution_count": null,
   "metadata": {},
   "outputs": [],
   "source": [
    "def display_recording(player):\n",
    "    print(\"Displaying player with fitness score {}.\".format(\n",
    "                                    player.fitness))\n",
    "    display_animation(player)"
   ]
  },
  {
   "cell_type": "code",
   "execution_count": null,
   "metadata": {
    "scrolled": true
   },
   "outputs": [],
   "source": [
    "def get_fittest(population):\n",
    "    player_num = 0\n",
    "    for i in range(1, len(population)):\n",
    "        if population[i].fitness > population[player_num].fitness:\n",
    "            player_num = i\n",
    "    return population[player_num]\n",
    "\n",
    "def record_player(player):\n",
    "    images = []\n",
    "    done = False\n",
    "    observation = env.reset()\n",
    "    past_fitness = []\n",
    "    for move in range(len(player.moves)):\n",
    "        if done:\n",
    "            break\n",
    "        state, reward, done, info = env.step(player.moves[move])\n",
    "        if done:\n",
    "            break\n",
    "        done = check_fitness(player, info['x_pos'], past_fitness)\n",
    "        handle_frame(move, images)\n",
    "    return images\n",
    "        \n",
    "def play_generation(fittest, population):\n",
    "    for i in range(population_amount):\n",
    "        player = Agent(fittest)\n",
    "        observation = env.reset()\n",
    "        done = False\n",
    "        past_fitness = []\n",
    "        agent_get_moves(player, population)\n",
    "        for move in range(len(player.moves)):\n",
    "            if done:\n",
    "                break\n",
    "            state, reward, done, info = env.step(player.moves[move])\n",
    "            if done:\n",
    "                break\n",
    "            done = check_fitness(player, info['x_pos'], past_fitness)\n",
    "            env.render()\n",
    "        player.moves_used = move\n",
    "        population.append(player)\n",
    "        print(\"Player {} achieved a fitness of {} in {} moves\".format(i,\n",
    "                                                               player.fitness, move))\n",
    "        if info['flag_get']:\n",
    "            return 1\n",
    "    print_mutation_info(fittest, population)\n",
    "    return 0"
   ]
  },
  {
   "cell_type": "code",
   "execution_count": null,
   "metadata": {
    "scrolled": true
   },
   "outputs": [],
   "source": [
    "def custom_starting_agent(filename, fitness):\n",
    "    fittest = Agent(None)\n",
    "    fittest.fitness = fitness\n",
    "    fittest.moves = open(filename, \"r\").read()\n",
    "    fittest.moves = fittest.moves.strip(\"[]\")\n",
    "    fittest.moves = [int(s) for s in fittest.moves.split(',')]\n",
    "    fittest.moves_used = 1120\n",
    "    return (fittest)\n",
    "\n",
    "fittest = None\n",
    "#fittest = custom_starting_agent(\"2227-fitness\", 900)\n",
    "for generation in range(generation_amount):\n",
    "    population = []\n",
    "    if play_generation(fittest, population):\n",
    "        break\n",
    "    fittest = get_fittest(population)\n",
    "    print(\"GENERATION {} HIGHEST FITNESS ACHIEVED: {}\".format(generation,\n",
    "                                                             fittest.fitness))"
   ]
  },
  {
   "cell_type": "markdown",
   "metadata": {},
   "source": [
    "Animate results"
   ]
  },
  {
   "cell_type": "code",
   "execution_count": null,
   "metadata": {},
   "outputs": [],
   "source": [
    "winner = get_fittest(population)\n",
    "print(\"Player from generation {} won! Achieving a fitness of {} in {} moves!\"\n",
    "          .format(generation, winner.fitness, winner.moves_used))\n",
    "print(\"Compiling animation...\")\n",
    "ani = display_animation(record_player(winner))\n",
    "ani"
   ]
  },
  {
   "cell_type": "markdown",
   "metadata": {},
   "source": [
    "Save animation to file"
   ]
  },
  {
   "cell_type": "code",
   "execution_count": null,
   "metadata": {},
   "outputs": [],
   "source": [
    "Writer = animation.FFMpegFileWriter\n",
    "writer = Writer(fps=20, metadata=dict(artist='Me'), bitrate=-1)\n",
    "ani.save(\"mario_flag_get-{}.mp4\".format(random.random()), writer = writer)"
   ]
  },
  {
   "cell_type": "code",
   "execution_count": null,
   "metadata": {},
   "outputs": [],
   "source": [
    "env.close()\n",
    "plt.close('all')"
   ]
  },
  {
   "cell_type": "code",
   "execution_count": null,
   "metadata": {},
   "outputs": [],
   "source": [
    "print(SIMPLE_MOVEMENT)\n",
    "print(env)"
   ]
  }
 ],
 "metadata": {
  "kernelspec": {
   "display_name": "Python 3.6.9 64-bit",
   "language": "python",
   "name": "python36964bit638618a9b5c54a98ba6054ea15b7e33a"
  },
  "language_info": {
   "codemirror_mode": {
    "name": "ipython",
    "version": 3
   },
   "file_extension": ".py",
   "mimetype": "text/x-python",
   "name": "python",
   "nbconvert_exporter": "python",
   "pygments_lexer": "ipython3",
   "version": "3.6.9"
  }
 },
 "nbformat": 4,
 "nbformat_minor": 4
}
