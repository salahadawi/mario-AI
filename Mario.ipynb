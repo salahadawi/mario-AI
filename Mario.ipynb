{
 "cells": [
  {
   "cell_type": "markdown",
   "metadata": {},
   "source": [
    "Import mario modules"
   ]
  },
  {
   "cell_type": "code",
   "execution_count": 1,
   "metadata": {},
   "outputs": [],
   "source": [
    "#! /usr/bin/python3\n",
    "from nes_py.wrappers import JoypadSpace\n",
    "import gym_super_mario_bros\n",
    "from gym_super_mario_bros.actions import *"
   ]
  },
  {
   "cell_type": "markdown",
   "metadata": {},
   "source": [
    "Import plotting modules"
   ]
  },
  {
   "cell_type": "code",
   "execution_count": 2,
   "metadata": {},
   "outputs": [],
   "source": [
    "import matplotlib.pyplot as plt\n",
    "from matplotlib import animation, rc\n",
    "from IPython.core.interactiveshell import InteractiveShell\n",
    "InteractiveShell.ast_node_interactivity = \"all\""
   ]
  },
  {
   "cell_type": "code",
   "execution_count": 3,
   "metadata": {},
   "outputs": [],
   "source": [
    "import random"
   ]
  },
  {
   "cell_type": "markdown",
   "metadata": {},
   "source": [
    "Setup plotting"
   ]
  },
  {
   "cell_type": "code",
   "execution_count": 4,
   "metadata": {
    "scrolled": true
   },
   "outputs": [],
   "source": [
    "%matplotlib inline\n",
    "%matplotlib notebook\n",
    "plt.ioff()"
   ]
  },
  {
   "cell_type": "markdown",
   "metadata": {},
   "source": [
    "Setup enviroment"
   ]
  },
  {
   "cell_type": "code",
   "execution_count": 5,
   "metadata": {},
   "outputs": [],
   "source": [
    "env = gym_super_mario_bros.make('SuperMarioBros-1-1-v0')\n",
    "env = JoypadSpace(env, RIGHT_ONLY)"
   ]
  },
  {
   "cell_type": "markdown",
   "metadata": {},
   "source": [
    "Setup parameters"
   ]
  },
  {
   "cell_type": "code",
   "execution_count": 6,
   "metadata": {},
   "outputs": [],
   "source": [
    "#Animation\n",
    "save_animation = 0 # Saves animation to plot\n",
    "frames_skipped = 1 # How many frames to skip when creating animation\n",
    "\n",
    "#Generation\n",
    "generation_amount = 10\n",
    "\n",
    "#Population\n",
    "population_amount = 30 # Amount of agents per generation\n",
    "\n",
    "#Agent\n",
    "moves_amount = 5000 # Max amount of moves agent can perform\n",
    "moves_to_check = 100 # How many moves without increase in fitness until termination\n",
    "mutation_rate = 0.001 # Chance of any move changing to a random move\n"
   ]
  },
  {
   "cell_type": "code",
   "execution_count": 7,
   "metadata": {},
   "outputs": [],
   "source": [
    "t = 0\n",
    "def print_info(info, reward):\n",
    "    global t \n",
    "    t += 1\n",
    "    if not t % 100:\n",
    "        print(info, reward)"
   ]
  },
  {
   "cell_type": "code",
   "execution_count": 8,
   "metadata": {},
   "outputs": [],
   "source": [
    "def handle_frame(step, player):\n",
    "    if save_animation:\n",
    "        if not step % frames_skipped:\n",
    "            image = plt.imshow(env.render(mode='rgb_array'))\n",
    "            player.images.append([image])\n",
    "    env.render()"
   ]
  },
  {
   "cell_type": "code",
   "execution_count": 9,
   "metadata": {},
   "outputs": [],
   "source": [
    "def display_animation(player):\n",
    "    anim = animation.ArtistAnimation(player.fig, player.images,\n",
    "                                     interval=15*frames_skipped, blit=True)\n",
    "    rc('animation', html='jshtml')\n",
    "    return(anim)"
   ]
  },
  {
   "cell_type": "code",
   "execution_count": 10,
   "metadata": {},
   "outputs": [],
   "source": [
    "class Agent:\n",
    "    def __init__(self, fittest):\n",
    "        self.fitness = 0\n",
    "        self.images = []\n",
    "        self.fig = plt.figure()\n",
    "        if fittest:\n",
    "            self.moves = fittest.moves.copy()\n",
    "        else:\n",
    "            self.moves = []"
   ]
  },
  {
   "cell_type": "code",
   "execution_count": 11,
   "metadata": {},
   "outputs": [],
   "source": [
    "def check_fitness(player, fitness, past_fitness):\n",
    "    if player.fitness < fitness:\n",
    "        player.fitness = fitness\n",
    "    if len(past_fitness) < moves_to_check:\n",
    "        past_fitness.append(fitness)\n",
    "    else:\n",
    "        past_fitness.pop(0)\n",
    "        past_fitness.append(fitness)\n",
    "        for i in range(moves_to_check):\n",
    "            if past_fitness[i] > past_fitness[0]:\n",
    "                break\n",
    "            #Kills player if no progress in fitness for moves_to_check moves\n",
    "            if i == moves_to_check - 1:\n",
    "                return True"
   ]
  },
  {
   "cell_type": "code",
   "execution_count": 12,
   "metadata": {},
   "outputs": [],
   "source": [
    "def mutate_moves(player):\n",
    "    for i in range(moves_amount):\n",
    "        num = random.random()\n",
    "        if num < mutation_rate:\n",
    "            player.moves[i] = env.action_space.sample()\n",
    "\n",
    "def agent_get_moves(player, population):\n",
    "    if not player.moves:\n",
    "        for i in range(moves_amount):\n",
    "            player.moves.append(env.action_space.sample())\n",
    "    else:\n",
    "        if population:\n",
    "            mutate_moves(player)"
   ]
  },
  {
   "cell_type": "code",
   "execution_count": 13,
   "metadata": {
    "scrolled": true
   },
   "outputs": [],
   "source": [
    "def get_fittest(population):\n",
    "    player_num = 0\n",
    "    for i in range(1, len(population)):\n",
    "        if population[i].fitness > population[player_num].fitness:\n",
    "            player_num = i\n",
    "    return population[player_num]\n",
    "\n",
    "def play_generation(fittest):\n",
    "    global mutation_rate\n",
    "    population = []\n",
    "    for i in range(population_amount):\n",
    "        player = Agent(fittest)\n",
    "        observation = env.reset()\n",
    "        done = False\n",
    "        past_fitness = []\n",
    "        agent_get_moves(player, population)\n",
    "        for move in range(len(player.moves)):\n",
    "            if done:\n",
    "                break\n",
    "            state, reward, done, info = env.step(player.moves[move])\n",
    "            if done:\n",
    "                break\n",
    "            done = check_fitness(player, info['x_pos'], past_fitness)\n",
    "            handle_frame(move, player)\n",
    "        population.append(player)\n",
    "        print(\"Player {} achieved a fitness of {}\".format(i, player.fitness))\n",
    "        ##print reason why game ended here\n",
    "        #if not player == get_fittest(population):\n",
    "            #print(\"plt freed\")\n",
    "        plt.close(\"all\")\n",
    "    if fittest and fittest.fitness == get_fittest(population).fitness:\n",
    "        print(\"Increasing mutation chance by 0.1\")\n",
    "        mutation_rate += 0.1\n",
    "        print(\"Mutation chance is now {}%\".format(mutation_rate*100))\n",
    "    else:\n",
    "        print(\"Fitness increased succesfully, restore to 0.01\")\n",
    "        mutation_rate = 0.01\n",
    "    return population"
   ]
  },
  {
   "cell_type": "code",
   "execution_count": 14,
   "metadata": {
    "scrolled": true
   },
   "outputs": [
    {
     "name": "stderr",
     "output_type": "stream",
     "text": [
      "/home/sadawi/.local/lib/python3.6/site-packages/gym_super_mario_bros/smb_env.py:148: RuntimeWarning: overflow encountered in ubyte_scalars\n",
      "  return (self.ram[0x86] - self.ram[0x071c]) % 256\n"
     ]
    },
    {
     "name": "stdout",
     "output_type": "stream",
     "text": [
      "Player 0 achieved a fitness of 434\n",
      "Player 1 achieved a fitness of 305\n",
      "Player 2 achieved a fitness of 435\n",
      "Player 3 achieved a fitness of 594\n",
      "Player 4 achieved a fitness of 596\n",
      "Player 5 achieved a fitness of 596\n",
      "Player 6 achieved a fitness of 306\n",
      "Player 7 achieved a fitness of 595\n",
      "Player 8 achieved a fitness of 595\n",
      "Player 9 achieved a fitness of 594\n",
      "Player 10 achieved a fitness of 305\n",
      "Player 11 achieved a fitness of 594\n",
      "Player 12 achieved a fitness of 596\n",
      "Player 13 achieved a fitness of 722\n",
      "Player 14 achieved a fitness of 436\n",
      "Player 15 achieved a fitness of 595\n",
      "Player 16 achieved a fitness of 596\n",
      "Player 17 achieved a fitness of 435\n",
      "Player 18 achieved a fitness of 594\n",
      "Player 19 achieved a fitness of 307\n",
      "Player 20 achieved a fitness of 594\n",
      "Player 21 achieved a fitness of 307\n",
      "Player 22 achieved a fitness of 595\n",
      "Player 23 achieved a fitness of 435\n",
      "Player 24 achieved a fitness of 723\n",
      "Player 25 achieved a fitness of 294\n",
      "Player 26 achieved a fitness of 306\n",
      "Player 27 achieved a fitness of 435\n",
      "Player 28 achieved a fitness of 594\n",
      "Player 29 achieved a fitness of 595\n",
      "Fitness increased succesfully, restore to 0.1\n",
      "GENERATION 0 HIGHEST FITNESS ACHIEVED: 723\n",
      "Player 0 achieved a fitness of 723\n",
      "Player 1 achieved a fitness of 596\n",
      "Player 2 achieved a fitness of 723\n",
      "Player 3 achieved a fitness of 723\n",
      "Player 4 achieved a fitness of 435\n",
      "Player 5 achieved a fitness of 723\n",
      "Player 6 achieved a fitness of 723\n",
      "Player 7 achieved a fitness of 594\n",
      "Player 8 achieved a fitness of 309\n",
      "Player 9 achieved a fitness of 436\n",
      "Player 10 achieved a fitness of 594\n",
      "Player 11 achieved a fitness of 707\n",
      "Player 12 achieved a fitness of 435\n",
      "Player 13 achieved a fitness of 435\n",
      "Player 14 achieved a fitness of 594\n",
      "Player 15 achieved a fitness of 596\n",
      "Player 16 achieved a fitness of 594\n",
      "Player 17 achieved a fitness of 723\n",
      "Player 18 achieved a fitness of 435\n",
      "Player 19 achieved a fitness of 596\n",
      "Player 20 achieved a fitness of 723\n",
      "Player 21 achieved a fitness of 724\n",
      "Player 22 achieved a fitness of 595\n",
      "Player 23 achieved a fitness of 596\n",
      "Player 24 achieved a fitness of 594\n",
      "Player 25 achieved a fitness of 436\n",
      "Player 26 achieved a fitness of 437\n",
      "Player 27 achieved a fitness of 435\n",
      "Player 28 achieved a fitness of 723\n",
      "Player 29 achieved a fitness of 435\n",
      "Fitness increased succesfully, restore to 0.1\n",
      "GENERATION 1 HIGHEST FITNESS ACHIEVED: 724\n",
      "Player 0 achieved a fitness of 724\n",
      "Player 1 achieved a fitness of 722\n",
      "Player 2 achieved a fitness of 723\n",
      "Player 3 achieved a fitness of 724\n",
      "Player 4 achieved a fitness of 724\n",
      "Player 5 achieved a fitness of 594\n",
      "Player 6 achieved a fitness of 595\n",
      "Player 7 achieved a fitness of 724\n",
      "Player 8 achieved a fitness of 594\n",
      "Player 9 achieved a fitness of 435\n",
      "Player 10 achieved a fitness of 435\n",
      "Player 11 achieved a fitness of 723\n",
      "Player 12 achieved a fitness of 435\n",
      "Player 13 achieved a fitness of 435\n",
      "Player 14 achieved a fitness of 435\n",
      "Player 15 achieved a fitness of 724\n",
      "Player 16 achieved a fitness of 724\n",
      "Player 17 achieved a fitness of 724\n",
      "Player 18 achieved a fitness of 594\n",
      "Player 19 achieved a fitness of 723\n",
      "Player 20 achieved a fitness of 596\n",
      "Player 21 achieved a fitness of 724\n",
      "Player 22 achieved a fitness of 435\n",
      "Player 23 achieved a fitness of 308\n",
      "Player 24 achieved a fitness of 307\n",
      "Player 25 achieved a fitness of 594\n",
      "Player 26 achieved a fitness of 724\n",
      "Player 27 achieved a fitness of 435\n",
      "Player 28 achieved a fitness of 724\n",
      "Player 29 achieved a fitness of 435\n",
      "Increasing mutation chance by 0.1\n",
      "GENERATION 2 HIGHEST FITNESS ACHIEVED: 724\n",
      "Player 0 achieved a fitness of 724\n",
      "Player 1 achieved a fitness of 594\n",
      "Player 2 achieved a fitness of 303\n",
      "Player 3 achieved a fitness of 596\n",
      "Player 4 achieved a fitness of 596\n",
      "Player 5 achieved a fitness of 435\n",
      "Player 6 achieved a fitness of 594\n",
      "Player 7 achieved a fitness of 594\n",
      "Player 8 achieved a fitness of 296\n",
      "Player 9 achieved a fitness of 595\n",
      "Player 10 achieved a fitness of 594\n",
      "Player 11 achieved a fitness of 595\n",
      "Player 12 achieved a fitness of 594\n",
      "Player 13 achieved a fitness of 309\n",
      "Player 14 achieved a fitness of 435\n",
      "Player 15 achieved a fitness of 435\n",
      "Player 16 achieved a fitness of 594\n",
      "Player 17 achieved a fitness of 595\n",
      "Player 18 achieved a fitness of 309\n",
      "Player 19 achieved a fitness of 594\n",
      "Player 20 achieved a fitness of 295\n",
      "Player 21 achieved a fitness of 309\n",
      "Player 22 achieved a fitness of 594\n",
      "Player 23 achieved a fitness of 435\n",
      "Player 24 achieved a fitness of 722\n",
      "Player 25 achieved a fitness of 594\n",
      "Player 26 achieved a fitness of 309\n",
      "Player 27 achieved a fitness of 308\n",
      "Player 28 achieved a fitness of 309\n",
      "Player 29 achieved a fitness of 595\n",
      "Increasing mutation chance by 0.1\n",
      "GENERATION 3 HIGHEST FITNESS ACHIEVED: 724\n",
      "Player 0 achieved a fitness of 724\n",
      "Player 1 achieved a fitness of 307\n",
      "Player 2 achieved a fitness of 595\n",
      "Player 3 achieved a fitness of 594\n",
      "Player 4 achieved a fitness of 294\n",
      "Player 5 achieved a fitness of 435\n",
      "Player 6 achieved a fitness of 435\n",
      "Player 7 achieved a fitness of 594\n",
      "Player 8 achieved a fitness of 594\n",
      "Player 9 achieved a fitness of 594\n",
      "Player 10 achieved a fitness of 435\n",
      "Player 11 achieved a fitness of 594\n",
      "Player 12 achieved a fitness of 436\n",
      "Player 13 achieved a fitness of 595\n",
      "Player 14 achieved a fitness of 311\n",
      "Player 15 achieved a fitness of 304\n",
      "Player 16 achieved a fitness of 595\n",
      "Player 17 achieved a fitness of 594\n",
      "Player 18 achieved a fitness of 310\n",
      "Player 19 achieved a fitness of 308\n",
      "Player 20 achieved a fitness of 595\n",
      "Player 21 achieved a fitness of 595\n",
      "Player 22 achieved a fitness of 595\n",
      "Player 23 achieved a fitness of 596\n",
      "Player 24 achieved a fitness of 594\n",
      "Player 25 achieved a fitness of 310\n",
      "Player 26 achieved a fitness of 594\n",
      "Player 27 achieved a fitness of 594\n",
      "Player 28 achieved a fitness of 303\n",
      "Player 29 achieved a fitness of 435\n",
      "Increasing mutation chance by 0.1\n",
      "GENERATION 4 HIGHEST FITNESS ACHIEVED: 724\n",
      "Player 0 achieved a fitness of 724\n",
      "Player 1 achieved a fitness of 595\n",
      "Player 2 achieved a fitness of 435\n",
      "Player 3 achieved a fitness of 312\n",
      "Player 4 achieved a fitness of 594\n",
      "Player 5 achieved a fitness of 595\n",
      "Player 6 achieved a fitness of 435\n",
      "Player 7 achieved a fitness of 595\n",
      "Player 8 achieved a fitness of 308\n",
      "Player 9 achieved a fitness of 436\n",
      "Player 10 achieved a fitness of 435\n",
      "Player 11 achieved a fitness of 307\n",
      "Player 12 achieved a fitness of 308\n",
      "Player 13 achieved a fitness of 596\n",
      "Player 14 achieved a fitness of 723\n",
      "Player 15 achieved a fitness of 436\n",
      "Player 16 achieved a fitness of 297\n",
      "Player 17 achieved a fitness of 308\n",
      "Player 18 achieved a fitness of 594\n",
      "Player 19 achieved a fitness of 595\n",
      "Player 20 achieved a fitness of 305\n",
      "Player 21 achieved a fitness of 595\n",
      "Player 22 achieved a fitness of 435\n",
      "Player 23 achieved a fitness of 724\n",
      "Player 24 achieved a fitness of 595\n",
      "Player 25 achieved a fitness of 594\n",
      "Player 26 achieved a fitness of 594\n",
      "Player 27 achieved a fitness of 309\n",
      "Player 28 achieved a fitness of 595\n",
      "Player 29 achieved a fitness of 304\n",
      "Increasing mutation chance by 0.1\n",
      "GENERATION 5 HIGHEST FITNESS ACHIEVED: 724\n",
      "Player 0 achieved a fitness of 724\n",
      "Player 1 achieved a fitness of 305\n",
      "Player 2 achieved a fitness of 308\n",
      "Player 3 achieved a fitness of 594\n",
      "Player 4 achieved a fitness of 594\n",
      "Player 5 achieved a fitness of 596\n",
      "Player 6 achieved a fitness of 435\n",
      "Player 7 achieved a fitness of 594\n",
      "Player 8 achieved a fitness of 292\n",
      "Player 9 achieved a fitness of 309\n",
      "Player 10 achieved a fitness of 306\n",
      "Player 11 achieved a fitness of 596\n",
      "Player 12 achieved a fitness of 594\n",
      "Player 13 achieved a fitness of 594\n",
      "Player 14 achieved a fitness of 722\n",
      "Player 15 achieved a fitness of 311\n",
      "Player 16 achieved a fitness of 594\n",
      "Player 17 achieved a fitness of 306\n",
      "Player 18 achieved a fitness of 595\n",
      "Player 19 achieved a fitness of 594\n",
      "Player 20 achieved a fitness of 596\n",
      "Player 21 achieved a fitness of 594\n",
      "Player 22 achieved a fitness of 594\n",
      "Player 23 achieved a fitness of 435\n",
      "Player 24 achieved a fitness of 595\n",
      "Player 25 achieved a fitness of 596\n",
      "Player 26 achieved a fitness of 297\n",
      "Player 27 achieved a fitness of 594\n",
      "Player 28 achieved a fitness of 594\n",
      "Player 29 achieved a fitness of 596\n",
      "Increasing mutation chance by 0.1\n",
      "GENERATION 6 HIGHEST FITNESS ACHIEVED: 724\n",
      "Player 0 achieved a fitness of 724\n",
      "Player 1 achieved a fitness of 436\n",
      "Player 2 achieved a fitness of 594\n",
      "Player 3 achieved a fitness of 596\n"
     ]
    },
    {
     "name": "stdout",
     "output_type": "stream",
     "text": [
      "Player 4 achieved a fitness of 594\n",
      "Player 5 achieved a fitness of 309\n",
      "Player 6 achieved a fitness of 437\n",
      "Player 7 achieved a fitness of 595\n",
      "Player 8 achieved a fitness of 596\n",
      "Player 9 achieved a fitness of 595\n",
      "Player 10 achieved a fitness of 594\n",
      "Player 11 achieved a fitness of 596\n",
      "Player 12 achieved a fitness of 309\n",
      "Player 13 achieved a fitness of 311\n",
      "Player 14 achieved a fitness of 596\n",
      "Player 15 achieved a fitness of 594\n",
      "Player 16 achieved a fitness of 435\n",
      "Player 17 achieved a fitness of 595\n",
      "Player 18 achieved a fitness of 594\n",
      "Player 19 achieved a fitness of 435\n",
      "Player 20 achieved a fitness of 594\n",
      "Player 21 achieved a fitness of 596\n",
      "Player 22 achieved a fitness of 307\n",
      "Player 23 achieved a fitness of 435\n",
      "Player 24 achieved a fitness of 436\n",
      "Player 25 achieved a fitness of 293\n",
      "Player 26 achieved a fitness of 594\n",
      "Player 27 achieved a fitness of 595\n",
      "Player 28 achieved a fitness of 308\n",
      "Player 29 achieved a fitness of 435\n",
      "Increasing mutation chance by 0.1\n",
      "GENERATION 7 HIGHEST FITNESS ACHIEVED: 724\n",
      "Player 0 achieved a fitness of 724\n",
      "Player 1 achieved a fitness of 594\n",
      "Player 2 achieved a fitness of 596\n",
      "Player 3 achieved a fitness of 299\n",
      "Player 4 achieved a fitness of 307\n",
      "Player 5 achieved a fitness of 435\n",
      "Player 6 achieved a fitness of 595\n",
      "Player 7 achieved a fitness of 435\n",
      "Player 8 achieved a fitness of 312\n",
      "Player 9 achieved a fitness of 312\n",
      "Player 10 achieved a fitness of 313\n",
      "Player 11 achieved a fitness of 594\n",
      "Player 12 achieved a fitness of 594\n",
      "Player 13 achieved a fitness of 595\n",
      "Player 14 achieved a fitness of 594\n",
      "Player 15 achieved a fitness of 596\n"
     ]
    },
    {
     "ename": "KeyboardInterrupt",
     "evalue": "",
     "output_type": "error",
     "traceback": [
      "\u001b[0;31m---------------------------------------------------------------------------\u001b[0m",
      "\u001b[0;31mKeyboardInterrupt\u001b[0m                         Traceback (most recent call last)",
      "\u001b[0;32m<ipython-input-14-79724b2318e4>\u001b[0m in \u001b[0;36m<module>\u001b[0;34m\u001b[0m\n\u001b[1;32m      1\u001b[0m \u001b[0mfittest\u001b[0m \u001b[0;34m=\u001b[0m \u001b[0;32mNone\u001b[0m\u001b[0;34m\u001b[0m\u001b[0;34m\u001b[0m\u001b[0m\n\u001b[1;32m      2\u001b[0m \u001b[0;32mfor\u001b[0m \u001b[0mgeneration\u001b[0m \u001b[0;32min\u001b[0m \u001b[0mrange\u001b[0m\u001b[0;34m(\u001b[0m\u001b[0mgeneration_amount\u001b[0m\u001b[0;34m)\u001b[0m\u001b[0;34m:\u001b[0m\u001b[0;34m\u001b[0m\u001b[0;34m\u001b[0m\u001b[0m\n\u001b[0;32m----> 3\u001b[0;31m     \u001b[0mpopulation\u001b[0m \u001b[0;34m=\u001b[0m \u001b[0mplay_generation\u001b[0m\u001b[0;34m(\u001b[0m\u001b[0mfittest\u001b[0m\u001b[0;34m)\u001b[0m\u001b[0;34m\u001b[0m\u001b[0;34m\u001b[0m\u001b[0m\n\u001b[0m\u001b[1;32m      4\u001b[0m     \u001b[0mfittest\u001b[0m \u001b[0;34m=\u001b[0m \u001b[0mget_fittest\u001b[0m\u001b[0;34m(\u001b[0m\u001b[0mpopulation\u001b[0m\u001b[0;34m)\u001b[0m\u001b[0;34m\u001b[0m\u001b[0;34m\u001b[0m\u001b[0m\n\u001b[1;32m      5\u001b[0m     print(\"GENERATION {} HIGHEST FITNESS ACHIEVED: {}\".format(generation,\n",
      "\u001b[0;32m<ipython-input-13-35da14f047eb>\u001b[0m in \u001b[0;36mplay_generation\u001b[0;34m(fittest)\u001b[0m\n\u001b[1;32m     18\u001b[0m             \u001b[0;32mif\u001b[0m \u001b[0mdone\u001b[0m\u001b[0;34m:\u001b[0m\u001b[0;34m\u001b[0m\u001b[0;34m\u001b[0m\u001b[0m\n\u001b[1;32m     19\u001b[0m                 \u001b[0;32mbreak\u001b[0m\u001b[0;34m\u001b[0m\u001b[0;34m\u001b[0m\u001b[0m\n\u001b[0;32m---> 20\u001b[0;31m             \u001b[0mstate\u001b[0m\u001b[0;34m,\u001b[0m \u001b[0mreward\u001b[0m\u001b[0;34m,\u001b[0m \u001b[0mdone\u001b[0m\u001b[0;34m,\u001b[0m \u001b[0minfo\u001b[0m \u001b[0;34m=\u001b[0m \u001b[0menv\u001b[0m\u001b[0;34m.\u001b[0m\u001b[0mstep\u001b[0m\u001b[0;34m(\u001b[0m\u001b[0mplayer\u001b[0m\u001b[0;34m.\u001b[0m\u001b[0mmoves\u001b[0m\u001b[0;34m[\u001b[0m\u001b[0mmove\u001b[0m\u001b[0;34m]\u001b[0m\u001b[0;34m)\u001b[0m\u001b[0;34m\u001b[0m\u001b[0;34m\u001b[0m\u001b[0m\n\u001b[0m\u001b[1;32m     21\u001b[0m             \u001b[0;32mif\u001b[0m \u001b[0mdone\u001b[0m\u001b[0;34m:\u001b[0m\u001b[0;34m\u001b[0m\u001b[0;34m\u001b[0m\u001b[0m\n\u001b[1;32m     22\u001b[0m                 \u001b[0;32mbreak\u001b[0m\u001b[0;34m\u001b[0m\u001b[0;34m\u001b[0m\u001b[0m\n",
      "\u001b[0;32m~/.local/lib/python3.6/site-packages/nes_py/wrappers/joypad_space.py\u001b[0m in \u001b[0;36mstep\u001b[0;34m(self, action)\u001b[0m\n\u001b[1;32m     72\u001b[0m         \"\"\"\n\u001b[1;32m     73\u001b[0m         \u001b[0;31m# take the step and record the output\u001b[0m\u001b[0;34m\u001b[0m\u001b[0;34m\u001b[0m\u001b[0;34m\u001b[0m\u001b[0m\n\u001b[0;32m---> 74\u001b[0;31m         \u001b[0;32mreturn\u001b[0m \u001b[0mself\u001b[0m\u001b[0;34m.\u001b[0m\u001b[0menv\u001b[0m\u001b[0;34m.\u001b[0m\u001b[0mstep\u001b[0m\u001b[0;34m(\u001b[0m\u001b[0mself\u001b[0m\u001b[0;34m.\u001b[0m\u001b[0m_action_map\u001b[0m\u001b[0;34m[\u001b[0m\u001b[0maction\u001b[0m\u001b[0;34m]\u001b[0m\u001b[0;34m)\u001b[0m\u001b[0;34m\u001b[0m\u001b[0;34m\u001b[0m\u001b[0m\n\u001b[0m\u001b[1;32m     75\u001b[0m \u001b[0;34m\u001b[0m\u001b[0m\n\u001b[1;32m     76\u001b[0m     \u001b[0;32mdef\u001b[0m \u001b[0mreset\u001b[0m\u001b[0;34m(\u001b[0m\u001b[0mself\u001b[0m\u001b[0;34m)\u001b[0m\u001b[0;34m:\u001b[0m\u001b[0;34m\u001b[0m\u001b[0;34m\u001b[0m\u001b[0m\n",
      "\u001b[0;32m~/.local/lib/python3.6/site-packages/gym/wrappers/time_limit.py\u001b[0m in \u001b[0;36mstep\u001b[0;34m(self, action)\u001b[0m\n\u001b[1;32m     14\u001b[0m     \u001b[0;32mdef\u001b[0m \u001b[0mstep\u001b[0m\u001b[0;34m(\u001b[0m\u001b[0mself\u001b[0m\u001b[0;34m,\u001b[0m \u001b[0maction\u001b[0m\u001b[0;34m)\u001b[0m\u001b[0;34m:\u001b[0m\u001b[0;34m\u001b[0m\u001b[0;34m\u001b[0m\u001b[0m\n\u001b[1;32m     15\u001b[0m         \u001b[0;32massert\u001b[0m \u001b[0mself\u001b[0m\u001b[0;34m.\u001b[0m\u001b[0m_elapsed_steps\u001b[0m \u001b[0;32mis\u001b[0m \u001b[0;32mnot\u001b[0m \u001b[0;32mNone\u001b[0m\u001b[0;34m,\u001b[0m \u001b[0;34m\"Cannot call env.step() before calling reset()\"\u001b[0m\u001b[0;34m\u001b[0m\u001b[0;34m\u001b[0m\u001b[0m\n\u001b[0;32m---> 16\u001b[0;31m         \u001b[0mobservation\u001b[0m\u001b[0;34m,\u001b[0m \u001b[0mreward\u001b[0m\u001b[0;34m,\u001b[0m \u001b[0mdone\u001b[0m\u001b[0;34m,\u001b[0m \u001b[0minfo\u001b[0m \u001b[0;34m=\u001b[0m \u001b[0mself\u001b[0m\u001b[0;34m.\u001b[0m\u001b[0menv\u001b[0m\u001b[0;34m.\u001b[0m\u001b[0mstep\u001b[0m\u001b[0;34m(\u001b[0m\u001b[0maction\u001b[0m\u001b[0;34m)\u001b[0m\u001b[0;34m\u001b[0m\u001b[0;34m\u001b[0m\u001b[0m\n\u001b[0m\u001b[1;32m     17\u001b[0m         \u001b[0mself\u001b[0m\u001b[0;34m.\u001b[0m\u001b[0m_elapsed_steps\u001b[0m \u001b[0;34m+=\u001b[0m \u001b[0;36m1\u001b[0m\u001b[0;34m\u001b[0m\u001b[0;34m\u001b[0m\u001b[0m\n\u001b[1;32m     18\u001b[0m         \u001b[0;32mif\u001b[0m \u001b[0mself\u001b[0m\u001b[0;34m.\u001b[0m\u001b[0m_elapsed_steps\u001b[0m \u001b[0;34m>=\u001b[0m \u001b[0mself\u001b[0m\u001b[0;34m.\u001b[0m\u001b[0m_max_episode_steps\u001b[0m\u001b[0;34m:\u001b[0m\u001b[0;34m\u001b[0m\u001b[0;34m\u001b[0m\u001b[0m\n",
      "\u001b[0;32m~/.local/lib/python3.6/site-packages/nes_py/nes_env.py\u001b[0m in \u001b[0;36mstep\u001b[0;34m(self, action)\u001b[0m\n\u001b[1;32m    290\u001b[0m         \u001b[0mself\u001b[0m\u001b[0;34m.\u001b[0m\u001b[0mcontrollers\u001b[0m\u001b[0;34m[\u001b[0m\u001b[0;36m0\u001b[0m\u001b[0;34m]\u001b[0m\u001b[0;34m[\u001b[0m\u001b[0;34m:\u001b[0m\u001b[0;34m]\u001b[0m \u001b[0;34m=\u001b[0m \u001b[0maction\u001b[0m\u001b[0;34m\u001b[0m\u001b[0;34m\u001b[0m\u001b[0m\n\u001b[1;32m    291\u001b[0m         \u001b[0;31m# pass the action to the emulator as an unsigned byte\u001b[0m\u001b[0;34m\u001b[0m\u001b[0;34m\u001b[0m\u001b[0;34m\u001b[0m\u001b[0m\n\u001b[0;32m--> 292\u001b[0;31m         \u001b[0m_LIB\u001b[0m\u001b[0;34m.\u001b[0m\u001b[0mStep\u001b[0m\u001b[0;34m(\u001b[0m\u001b[0mself\u001b[0m\u001b[0;34m.\u001b[0m\u001b[0m_env\u001b[0m\u001b[0;34m)\u001b[0m\u001b[0;34m\u001b[0m\u001b[0;34m\u001b[0m\u001b[0m\n\u001b[0m\u001b[1;32m    293\u001b[0m         \u001b[0;31m# get the reward for this step\u001b[0m\u001b[0;34m\u001b[0m\u001b[0;34m\u001b[0m\u001b[0;34m\u001b[0m\u001b[0m\n\u001b[1;32m    294\u001b[0m         \u001b[0mreward\u001b[0m \u001b[0;34m=\u001b[0m \u001b[0mself\u001b[0m\u001b[0;34m.\u001b[0m\u001b[0m_get_reward\u001b[0m\u001b[0;34m(\u001b[0m\u001b[0;34m)\u001b[0m\u001b[0;34m\u001b[0m\u001b[0;34m\u001b[0m\u001b[0m\n",
      "\u001b[0;31mKeyboardInterrupt\u001b[0m: "
     ]
    }
   ],
   "source": [
    "fittest = None\n",
    "for generation in range(generation_amount):\n",
    "    population = play_generation(fittest)\n",
    "    fittest = get_fittest(population)\n",
    "    print(\"GENERATION {} HIGHEST FITNESS ACHIEVED: {}\".format(generation,\n",
    "                                                             fittest.fitness))\n",
    "    for i in range(population_amount):\n",
    "        plt.close(population[i].fig)"
   ]
  },
  {
   "cell_type": "markdown",
   "metadata": {},
   "source": [
    "Animate results"
   ]
  },
  {
   "cell_type": "code",
   "execution_count": null,
   "metadata": {
    "scrolled": false
   },
   "outputs": [],
   "source": [
    "if save_animation:\n",
    "    player_num = 0\n",
    "    for i in range(1, len(population)):\n",
    "        if population[i].fitness > population[player_num].fitness:\n",
    "            player_num = i\n",
    "    print(\"Displaying player {} with fitness score {}.\".format(player_num,\n",
    "                                    population[player_num].fitness))\n",
    "    display_animation(population[player_num])\n",
    "print(fittest.moves)"
   ]
  },
  {
   "cell_type": "code",
   "execution_count": null,
   "metadata": {},
   "outputs": [],
   "source": [
    "env.close()\n",
    "plt.close('all')"
   ]
  },
  {
   "cell_type": "code",
   "execution_count": null,
   "metadata": {},
   "outputs": [],
   "source": [
    "print(SIMPLE_MOVEMENT)\n",
    "print(env)"
   ]
  }
 ],
 "metadata": {
  "kernelspec": {
   "display_name": "Python 3.6.9 64-bit",
   "language": "python",
   "name": "python36964bit638618a9b5c54a98ba6054ea15b7e33a"
  },
  "language_info": {
   "codemirror_mode": {
    "name": "ipython",
    "version": 3
   },
   "file_extension": ".py",
   "mimetype": "text/x-python",
   "name": "python",
   "nbconvert_exporter": "python",
   "pygments_lexer": "ipython3",
   "version": "3.6.9"
  }
 },
 "nbformat": 4,
 "nbformat_minor": 4
}
